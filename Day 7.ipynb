{
 "cells": [
  {
   "cell_type": "markdown",
   "metadata": {},
   "source": [
    "# Assignment 1\n",
    "\n",
    "Use the dictionary \n",
    "\n",
    "port1={21:\"FTP\",22:\"SSH\",23:\"telnet\",80:\"http\"}\n",
    "\n",
    "and make a new dictionary in which keys becomes values and values becomes keys,\n",
    "\n",
    "as shown : port2 = {'FTP': 21, 'SSH': 22, 'telnet': 23, 'http': 80}\n"
   ]
  },
  {
   "cell_type": "code",
   "execution_count": 2,
   "metadata": {},
   "outputs": [
    {
     "data": {
      "text/plain": [
       "{'FTP': 21, 'SSH': 22, 'telnet': 23, 'http': 80}"
      ]
     },
     "execution_count": 2,
     "metadata": {},
     "output_type": "execute_result"
    }
   ],
   "source": [
    "port1={21:\"FTP\",22:\"SSH\",23:\"telnet\",80:\"http\"}\n",
    "port2={value:key for key,value in port1.items()}\n",
    "port2"
   ]
  },
  {
   "cell_type": "markdown",
   "metadata": {},
   "source": [
    "# Assignment 2 \n",
    "\n",
    "Take a list of tuples as shown below.\n",
    "\n",
    "[(1,2),(3,4),(4,5)]\n",
    "\n",
    "Make a new list which contains the sum of the number of tuples."
   ]
  },
  {
   "cell_type": "code",
   "execution_count": 10,
   "metadata": {},
   "outputs": [
    {
     "name": "stdout",
     "output_type": "stream",
     "text": [
      "[3, 7, 9]\n"
     ]
    }
   ],
   "source": [
    "list1=[(1,2),(3,4),(4,5)]\n",
    "sum1=[]\n",
    "for i in range(0,len(list1)):\n",
    "    sum1.append(list1[i][0]+list1[i][1])\n",
    "    \n",
    "print(sum1)\n",
    "    "
   ]
  },
  {
   "cell_type": "markdown",
   "metadata": {},
   "source": [
    "# Assignment 3\n",
    "\n",
    "Take a list as shown below\n",
    "\n",
    "[(1,2,3),[1,2].['a','hit','less']]\n",
    "\n",
    "The list contains tuple and lists.Make the elements of inner list and tuples to outer list."
   ]
  },
  {
   "cell_type": "code",
   "execution_count": 13,
   "metadata": {},
   "outputs": [
    {
     "name": "stdout",
     "output_type": "stream",
     "text": [
      "[1, 2, 3, 1, 2, 'a', 'hit', 'less']\n"
     ]
    }
   ],
   "source": [
    "list2 = [(1,2,3),[1,2],['a','hit','less']]\n",
    "list3=[]\n",
    "for i in list2:\n",
    "    if type(i)==list:\n",
    "        list3=list3 + i\n",
    "    elif type(i)==tuple:\n",
    "        list3.extend(i)\n",
    "    else:\n",
    "        list3.append(i)\n",
    "        \n",
    "print(list3)"
   ]
  },
  {
   "cell_type": "code",
   "execution_count": null,
   "metadata": {},
   "outputs": [],
   "source": []
  }
 ],
 "metadata": {
  "kernelspec": {
   "display_name": "Python 3",
   "language": "python",
   "name": "python3"
  },
  "language_info": {
   "codemirror_mode": {
    "name": "ipython",
    "version": 3
   },
   "file_extension": ".py",
   "mimetype": "text/x-python",
   "name": "python",
   "nbconvert_exporter": "python",
   "pygments_lexer": "ipython3",
   "version": "3.7.6"
  }
 },
 "nbformat": 4,
 "nbformat_minor": 4
}
