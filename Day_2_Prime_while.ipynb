{
 "cells": [
  {
   "cell_type": "markdown",
   "metadata": {},
   "source": [
    "assignment -1\n",
    "Sum of natural number using while loop"
   ]
  },
  {
   "cell_type": "code",
   "execution_count": 19,
   "metadata": {},
   "outputs": [
    {
     "name": "stdout",
     "output_type": "stream",
     "text": [
      "Enter a number--67\n",
      "1 --> 1\n",
      "2 --> 3\n",
      "3 --> 6\n",
      "4 --> 10\n",
      "5 --> 15\n",
      "6 --> 21\n",
      "7 --> 28\n",
      "8 --> 36\n",
      "9 --> 45\n",
      "10 --> 55\n",
      "11 --> 66\n",
      "12 --> 78\n",
      "13 --> 91\n",
      "14 --> 105\n",
      "15 --> 120\n",
      "16 --> 136\n",
      "17 --> 153\n",
      "18 --> 171\n",
      "19 --> 190\n",
      "20 --> 210\n",
      "21 --> 231\n",
      "22 --> 253\n",
      "23 --> 276\n",
      "24 --> 300\n",
      "25 --> 325\n",
      "26 --> 351\n",
      "27 --> 378\n",
      "28 --> 406\n",
      "29 --> 435\n",
      "30 --> 465\n",
      "31 --> 496\n",
      "32 --> 528\n",
      "33 --> 561\n",
      "34 --> 595\n",
      "35 --> 630\n",
      "36 --> 666\n",
      "37 --> 703\n",
      "38 --> 741\n",
      "39 --> 780\n",
      "40 --> 820\n",
      "41 --> 861\n",
      "42 --> 903\n",
      "43 --> 946\n",
      "44 --> 990\n",
      "45 --> 1035\n",
      "46 --> 1081\n",
      "47 --> 1128\n",
      "48 --> 1176\n",
      "49 --> 1225\n",
      "50 --> 1275\n",
      "51 --> 1326\n",
      "52 --> 1378\n",
      "53 --> 1431\n",
      "54 --> 1485\n",
      "55 --> 1540\n",
      "56 --> 1596\n",
      "57 --> 1653\n",
      "58 --> 1711\n",
      "59 --> 1770\n",
      "60 --> 1830\n",
      "61 --> 1891\n",
      "62 --> 1953\n",
      "63 --> 2016\n",
      "64 --> 2080\n",
      "65 --> 2145\n",
      "66 --> 2211\n",
      "67 --> 2278\n",
      "2278\n"
     ]
    }
   ],
   "source": [
    "num=int((input(\"Enter a number--\")))\n",
    "sum1 = int(0)\n",
    "for i in range(1,num+1):\n",
    "    sum1= sum1 +i\n",
    "    print(i,\"-->\",sum1)\n",
    "    while i==num:\n",
    "        break\n",
    "        \n",
    "print(sum1)"
   ]
  },
  {
   "cell_type": "markdown",
   "metadata": {},
   "source": [
    "ASSIGNMENT-2 "
   ]
  },
  {
   "cell_type": "code",
   "execution_count": 18,
   "metadata": {},
   "outputs": [],
   "source": [
    "# TO CHECK THE ENTER NUMBER IS PRIME"
   ]
  },
  {
   "cell_type": "code",
   "execution_count": 47,
   "metadata": {},
   "outputs": [
    {
     "name": "stdout",
     "output_type": "stream",
     "text": [
      "Enter a number- 79\n",
      "79  is a prime number.\n"
     ]
    }
   ],
   "source": [
    "num1= int(input(\"Enter a number- \"))\n",
    "for i in range(2,num1):\n",
    "    if num1%i == 0:\n",
    "        print(num1, \"is not a prime number.\")\n",
    "        break\n",
    "    else:\n",
    "        print(num1,\" is a prime number.\")\n",
    "        break\n",
    "                  "
   ]
  },
  {
   "cell_type": "code",
   "execution_count": null,
   "metadata": {},
   "outputs": [],
   "source": []
  },
  {
   "cell_type": "code",
   "execution_count": null,
   "metadata": {},
   "outputs": [],
   "source": []
  }
 ],
 "metadata": {
  "kernelspec": {
   "display_name": "Python 3",
   "language": "python",
   "name": "python3"
  }
 },
 "nbformat": 4,
 "nbformat_minor": 4
}
